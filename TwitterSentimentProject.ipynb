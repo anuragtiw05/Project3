{
 "cells": [
  {
   "cell_type": "code",
   "execution_count": 1,
   "id": "882d60de",
   "metadata": {},
   "outputs": [],
   "source": [
    "import numpy as np\n",
    "import pandas as pd"
   ]
  },
  {
   "cell_type": "code",
   "execution_count": 2,
   "id": "a956df33",
   "metadata": {},
   "outputs": [],
   "source": [
    "data = pd.read_csv(\"twitter_dataset.csv\",encoding =\"latin1\",header =None)"
   ]
  },
  {
   "cell_type": "code",
   "execution_count": 3,
   "id": "03426280",
   "metadata": {},
   "outputs": [
    {
     "data": {
      "text/html": [
       "<div>\n",
       "<style scoped>\n",
       "    .dataframe tbody tr th:only-of-type {\n",
       "        vertical-align: middle;\n",
       "    }\n",
       "\n",
       "    .dataframe tbody tr th {\n",
       "        vertical-align: top;\n",
       "    }\n",
       "\n",
       "    .dataframe thead th {\n",
       "        text-align: right;\n",
       "    }\n",
       "</style>\n",
       "<table border=\"1\" class=\"dataframe\">\n",
       "  <thead>\n",
       "    <tr style=\"text-align: right;\">\n",
       "      <th></th>\n",
       "      <th>0</th>\n",
       "      <th>1</th>\n",
       "      <th>2</th>\n",
       "      <th>3</th>\n",
       "      <th>4</th>\n",
       "      <th>5</th>\n",
       "    </tr>\n",
       "  </thead>\n",
       "  <tbody>\n",
       "    <tr>\n",
       "      <th>0</th>\n",
       "      <td>0</td>\n",
       "      <td>1467810369</td>\n",
       "      <td>Mon Apr 06 22:19:45 PDT 2009</td>\n",
       "      <td>NO_QUERY</td>\n",
       "      <td>_TheSpecialOne_</td>\n",
       "      <td>@switchfoot http://twitpic.com/2y1zl - Awww, t...</td>\n",
       "    </tr>\n",
       "    <tr>\n",
       "      <th>1</th>\n",
       "      <td>0</td>\n",
       "      <td>1467810672</td>\n",
       "      <td>Mon Apr 06 22:19:49 PDT 2009</td>\n",
       "      <td>NO_QUERY</td>\n",
       "      <td>scotthamilton</td>\n",
       "      <td>is upset that he can't update his Facebook by ...</td>\n",
       "    </tr>\n",
       "    <tr>\n",
       "      <th>2</th>\n",
       "      <td>0</td>\n",
       "      <td>1467810917</td>\n",
       "      <td>Mon Apr 06 22:19:53 PDT 2009</td>\n",
       "      <td>NO_QUERY</td>\n",
       "      <td>mattycus</td>\n",
       "      <td>@Kenichan I dived many times for the ball. Man...</td>\n",
       "    </tr>\n",
       "    <tr>\n",
       "      <th>3</th>\n",
       "      <td>0</td>\n",
       "      <td>1467811184</td>\n",
       "      <td>Mon Apr 06 22:19:57 PDT 2009</td>\n",
       "      <td>NO_QUERY</td>\n",
       "      <td>ElleCTF</td>\n",
       "      <td>my whole body feels itchy and like its on fire</td>\n",
       "    </tr>\n",
       "    <tr>\n",
       "      <th>4</th>\n",
       "      <td>0</td>\n",
       "      <td>1467811193</td>\n",
       "      <td>Mon Apr 06 22:19:57 PDT 2009</td>\n",
       "      <td>NO_QUERY</td>\n",
       "      <td>Karoli</td>\n",
       "      <td>@nationwideclass no, it's not behaving at all....</td>\n",
       "    </tr>\n",
       "  </tbody>\n",
       "</table>\n",
       "</div>"
      ],
      "text/plain": [
       "   0           1                             2         3                4  \\\n",
       "0  0  1467810369  Mon Apr 06 22:19:45 PDT 2009  NO_QUERY  _TheSpecialOne_   \n",
       "1  0  1467810672  Mon Apr 06 22:19:49 PDT 2009  NO_QUERY    scotthamilton   \n",
       "2  0  1467810917  Mon Apr 06 22:19:53 PDT 2009  NO_QUERY         mattycus   \n",
       "3  0  1467811184  Mon Apr 06 22:19:57 PDT 2009  NO_QUERY          ElleCTF   \n",
       "4  0  1467811193  Mon Apr 06 22:19:57 PDT 2009  NO_QUERY           Karoli   \n",
       "\n",
       "                                                   5  \n",
       "0  @switchfoot http://twitpic.com/2y1zl - Awww, t...  \n",
       "1  is upset that he can't update his Facebook by ...  \n",
       "2  @Kenichan I dived many times for the ball. Man...  \n",
       "3    my whole body feels itchy and like its on fire   \n",
       "4  @nationwideclass no, it's not behaving at all....  "
      ]
     },
     "execution_count": 3,
     "metadata": {},
     "output_type": "execute_result"
    }
   ],
   "source": [
    "data.head()"
   ]
  },
  {
   "cell_type": "code",
   "execution_count": 4,
   "id": "68075367",
   "metadata": {},
   "outputs": [],
   "source": [
    "data[0].replace(to_replace=4,value=1,inplace =True)"
   ]
  },
  {
   "cell_type": "code",
   "execution_count": 5,
   "id": "10716f2f",
   "metadata": {},
   "outputs": [],
   "source": [
    "data.drop(labels=[1,2,3,4],inplace=True,axis=1)"
   ]
  },
  {
   "cell_type": "code",
   "execution_count": 6,
   "id": "b4462bbf",
   "metadata": {},
   "outputs": [
    {
     "data": {
      "text/plain": [
       "(1600000, 2)"
      ]
     },
     "execution_count": 6,
     "metadata": {},
     "output_type": "execute_result"
    }
   ],
   "source": [
    "data.shape"
   ]
  },
  {
   "cell_type": "code",
   "execution_count": 7,
   "id": "166bef94",
   "metadata": {},
   "outputs": [],
   "source": [
    "data.rename(columns ={0:'class',5:'tweet'},inplace=True)"
   ]
  },
  {
   "cell_type": "code",
   "execution_count": 8,
   "id": "52d9d3a4",
   "metadata": {},
   "outputs": [
    {
     "data": {
      "text/html": [
       "<div>\n",
       "<style scoped>\n",
       "    .dataframe tbody tr th:only-of-type {\n",
       "        vertical-align: middle;\n",
       "    }\n",
       "\n",
       "    .dataframe tbody tr th {\n",
       "        vertical-align: top;\n",
       "    }\n",
       "\n",
       "    .dataframe thead th {\n",
       "        text-align: right;\n",
       "    }\n",
       "</style>\n",
       "<table border=\"1\" class=\"dataframe\">\n",
       "  <thead>\n",
       "    <tr style=\"text-align: right;\">\n",
       "      <th></th>\n",
       "      <th>class</th>\n",
       "      <th>tweet</th>\n",
       "    </tr>\n",
       "  </thead>\n",
       "  <tbody>\n",
       "    <tr>\n",
       "      <th>404188</th>\n",
       "      <td>0</td>\n",
       "      <td>@NadiaNV, Hahaha yesssss. LAL won cause Kobe's...</td>\n",
       "    </tr>\n",
       "    <tr>\n",
       "      <th>455346</th>\n",
       "      <td>0</td>\n",
       "      <td>Shiiiit forgot my movies at home</td>\n",
       "    </tr>\n",
       "    <tr>\n",
       "      <th>806537</th>\n",
       "      <td>1</td>\n",
       "      <td>pretty sure I finished my ICTE, and it's only ...</td>\n",
       "    </tr>\n",
       "    <tr>\n",
       "      <th>736469</th>\n",
       "      <td>0</td>\n",
       "      <td>I've had a crappy past few days</td>\n",
       "    </tr>\n",
       "    <tr>\n",
       "      <th>1090989</th>\n",
       "      <td>1</td>\n",
       "      <td>nowdays im listening to Selena Gomez's Cruella...</td>\n",
       "    </tr>\n",
       "  </tbody>\n",
       "</table>\n",
       "</div>"
      ],
      "text/plain": [
       "         class                                              tweet\n",
       "404188       0  @NadiaNV, Hahaha yesssss. LAL won cause Kobe's...\n",
       "455346       0                  Shiiiit forgot my movies at home \n",
       "806537       1  pretty sure I finished my ICTE, and it's only ...\n",
       "736469       0                   I've had a crappy past few days \n",
       "1090989      1  nowdays im listening to Selena Gomez's Cruella..."
      ]
     },
     "execution_count": 8,
     "metadata": {},
     "output_type": "execute_result"
    }
   ],
   "source": [
    "data.sample(5)"
   ]
  },
  {
   "cell_type": "code",
   "execution_count": 9,
   "id": "584fd78c",
   "metadata": {},
   "outputs": [],
   "source": [
    "data[\"tweet\"] = data[\"tweet\"].apply(lambda x: x.lower())"
   ]
  },
  {
   "cell_type": "code",
   "execution_count": 10,
   "id": "58d9739e",
   "metadata": {},
   "outputs": [
    {
     "data": {
      "text/html": [
       "<div>\n",
       "<style scoped>\n",
       "    .dataframe tbody tr th:only-of-type {\n",
       "        vertical-align: middle;\n",
       "    }\n",
       "\n",
       "    .dataframe tbody tr th {\n",
       "        vertical-align: top;\n",
       "    }\n",
       "\n",
       "    .dataframe thead th {\n",
       "        text-align: right;\n",
       "    }\n",
       "</style>\n",
       "<table border=\"1\" class=\"dataframe\">\n",
       "  <thead>\n",
       "    <tr style=\"text-align: right;\">\n",
       "      <th></th>\n",
       "      <th>class</th>\n",
       "      <th>tweet</th>\n",
       "    </tr>\n",
       "  </thead>\n",
       "  <tbody>\n",
       "    <tr>\n",
       "      <th>28559</th>\n",
       "      <td>0</td>\n",
       "      <td>@reallysketchyyy the problem is, i can't say i...</td>\n",
       "    </tr>\n",
       "    <tr>\n",
       "      <th>1188215</th>\n",
       "      <td>1</td>\n",
       "      <td>making pb toast</td>\n",
       "    </tr>\n",
       "    <tr>\n",
       "      <th>1081369</th>\n",
       "      <td>1</td>\n",
       "      <td>@j9naimoli lol &amp;quot;cutting wood&amp;quot;... i t...</td>\n",
       "    </tr>\n",
       "    <tr>\n",
       "      <th>1378127</th>\n",
       "      <td>1</td>\n",
       "      <td>@mattpro13 omg we should totally hang in bosto...</td>\n",
       "    </tr>\n",
       "    <tr>\n",
       "      <th>1495862</th>\n",
       "      <td>1</td>\n",
       "      <td>everyone needs to go get mitchel mussos new al...</td>\n",
       "    </tr>\n",
       "  </tbody>\n",
       "</table>\n",
       "</div>"
      ],
      "text/plain": [
       "         class                                              tweet\n",
       "28559        0  @reallysketchyyy the problem is, i can't say i...\n",
       "1188215      1                                   making pb toast \n",
       "1081369      1  @j9naimoli lol &quot;cutting wood&quot;... i t...\n",
       "1378127      1  @mattpro13 omg we should totally hang in bosto...\n",
       "1495862      1  everyone needs to go get mitchel mussos new al..."
      ]
     },
     "execution_count": 10,
     "metadata": {},
     "output_type": "execute_result"
    }
   ],
   "source": [
    "data.sample(5)"
   ]
  },
  {
   "cell_type": "code",
   "execution_count": 14,
   "id": "c7650b55",
   "metadata": {},
   "outputs": [],
   "source": [
    "import re\n",
    "\n",
    "def remove_user_name(tweet):\n",
    "    # Updated pattern to retain alphanumeric characters, spaces, and basic punctuation\n",
    "    return re.sub(pattern=r'@[a-zA-Z0-9_]+|#[a-zA-Z0-9_]+|\\w+:\\/{2}[\\d\\w-]+(\\.[\\d\\w-]+)*(?:(?:\\/[^\\s/]*))*|\\d+|<(\"[^\"]*\"|\\'[^\\']*\\'|[^\\'\">])*>|_+|[^\\w\\s.,!?]', \n",
    "                  repl=\"\",\n",
    "                  string=tweet\n",
    "                 )\n",
    "\n",
    "\n"
   ]
  },
  {
   "cell_type": "code",
   "execution_count": 15,
   "id": "298c3779",
   "metadata": {},
   "outputs": [],
   "source": [
    "data[\"tweet\"] = data[\"tweet\"].apply(remove_user_name)"
   ]
  },
  {
   "cell_type": "code",
   "execution_count": 16,
   "id": "dd5ddfa9",
   "metadata": {},
   "outputs": [
    {
     "data": {
      "text/html": [
       "<div>\n",
       "<style scoped>\n",
       "    .dataframe tbody tr th:only-of-type {\n",
       "        vertical-align: middle;\n",
       "    }\n",
       "\n",
       "    .dataframe tbody tr th {\n",
       "        vertical-align: top;\n",
       "    }\n",
       "\n",
       "    .dataframe thead th {\n",
       "        text-align: right;\n",
       "    }\n",
       "</style>\n",
       "<table border=\"1\" class=\"dataframe\">\n",
       "  <thead>\n",
       "    <tr style=\"text-align: right;\">\n",
       "      <th></th>\n",
       "      <th>class</th>\n",
       "      <th>tweet</th>\n",
       "    </tr>\n",
       "  </thead>\n",
       "  <tbody>\n",
       "    <tr>\n",
       "      <th>427330</th>\n",
       "      <td>0</td>\n",
       "      <td>how hard is it for sum to actually talk to me?</td>\n",
       "    </tr>\n",
       "    <tr>\n",
       "      <th>1504785</th>\n",
       "      <td>1</td>\n",
       "      <td>i didnt like the idea of using a serviette on...</td>\n",
       "    </tr>\n",
       "    <tr>\n",
       "      <th>853092</th>\n",
       "      <td>1</td>\n",
       "      <td>drunnkk again</td>\n",
       "    </tr>\n",
       "    <tr>\n",
       "      <th>157264</th>\n",
       "      <td>0</td>\n",
       "      <td>asshole, rubbing it in that you finish early</td>\n",
       "    </tr>\n",
       "    <tr>\n",
       "      <th>104214</th>\n",
       "      <td>0</td>\n",
       "      <td>it is  degrees in my apartment.  why do things...</td>\n",
       "    </tr>\n",
       "  </tbody>\n",
       "</table>\n",
       "</div>"
      ],
      "text/plain": [
       "         class                                              tweet\n",
       "427330       0   how hard is it for sum to actually talk to me?  \n",
       "1504785      1   i didnt like the idea of using a serviette on...\n",
       "853092       1                                     drunnkk again \n",
       "157264       0      asshole, rubbing it in that you finish early \n",
       "104214       0  it is  degrees in my apartment.  why do things..."
      ]
     },
     "execution_count": 16,
     "metadata": {},
     "output_type": "execute_result"
    }
   ],
   "source": [
    "data.sample(5)"
   ]
  },
  {
   "cell_type": "code",
   "execution_count": 17,
   "id": "0ba5a327",
   "metadata": {},
   "outputs": [
    {
     "name": "stderr",
     "output_type": "stream",
     "text": [
      "[nltk_data] Downloading package vader_lexicon to\n",
      "[nltk_data]     C:\\Users\\Anurag\\AppData\\Roaming\\nltk_data...\n",
      "[nltk_data]   Package vader_lexicon is already up-to-date!\n"
     ]
    },
    {
     "data": {
      "text/plain": [
       "True"
      ]
     },
     "execution_count": 17,
     "metadata": {},
     "output_type": "execute_result"
    }
   ],
   "source": [
    "import nltk\n",
    "nltk.download('vader_lexicon')"
   ]
  },
  {
   "cell_type": "code",
   "execution_count": 18,
   "id": "02f9b6be",
   "metadata": {},
   "outputs": [],
   "source": [
    "from nltk.sentiment.vader import SentimentIntensityAnalyzer\n",
    "sid=SentimentIntensityAnalyzer()"
   ]
  },
  {
   "cell_type": "code",
   "execution_count": 19,
   "id": "0c3646bc",
   "metadata": {},
   "outputs": [],
   "source": [
    "data['scores']=data['tweet'].apply(lambda tweet:sid.polarity_scores(tweet))"
   ]
  },
  {
   "cell_type": "code",
   "execution_count": 21,
   "id": "ac8e69ac",
   "metadata": {},
   "outputs": [
    {
     "data": {
      "text/html": [
       "<div>\n",
       "<style scoped>\n",
       "    .dataframe tbody tr th:only-of-type {\n",
       "        vertical-align: middle;\n",
       "    }\n",
       "\n",
       "    .dataframe tbody tr th {\n",
       "        vertical-align: top;\n",
       "    }\n",
       "\n",
       "    .dataframe thead th {\n",
       "        text-align: right;\n",
       "    }\n",
       "</style>\n",
       "<table border=\"1\" class=\"dataframe\">\n",
       "  <thead>\n",
       "    <tr style=\"text-align: right;\">\n",
       "      <th></th>\n",
       "      <th>class</th>\n",
       "      <th>tweet</th>\n",
       "      <th>scores</th>\n",
       "    </tr>\n",
       "  </thead>\n",
       "  <tbody>\n",
       "    <tr>\n",
       "      <th>0</th>\n",
       "      <td>0</td>\n",
       "      <td>awww, thats a bummer.  you shoulda got davi...</td>\n",
       "      <td>{'neg': 0.167, 'neu': 0.833, 'pos': 0.0, 'comp...</td>\n",
       "    </tr>\n",
       "    <tr>\n",
       "      <th>1</th>\n",
       "      <td>0</td>\n",
       "      <td>is upset that he cant update his facebook by t...</td>\n",
       "      <td>{'neg': 0.303, 'neu': 0.697, 'pos': 0.0, 'comp...</td>\n",
       "    </tr>\n",
       "    <tr>\n",
       "      <th>2</th>\n",
       "      <td>0</td>\n",
       "      <td>i dived many times for the ball. managed to s...</td>\n",
       "      <td>{'neg': 0.0, 'neu': 0.814, 'pos': 0.186, 'comp...</td>\n",
       "    </tr>\n",
       "    <tr>\n",
       "      <th>3</th>\n",
       "      <td>0</td>\n",
       "      <td>my whole body feels itchy and like its on fire</td>\n",
       "      <td>{'neg': 0.321, 'neu': 0.5, 'pos': 0.179, 'comp...</td>\n",
       "    </tr>\n",
       "    <tr>\n",
       "      <th>4</th>\n",
       "      <td>0</td>\n",
       "      <td>no, its not behaving at all. im mad. why am i...</td>\n",
       "      <td>{'neg': 0.252, 'neu': 0.748, 'pos': 0.0, 'comp...</td>\n",
       "    </tr>\n",
       "  </tbody>\n",
       "</table>\n",
       "</div>"
      ],
      "text/plain": [
       "   class                                              tweet  \\\n",
       "0      0     awww, thats a bummer.  you shoulda got davi...   \n",
       "1      0  is upset that he cant update his facebook by t...   \n",
       "2      0   i dived many times for the ball. managed to s...   \n",
       "3      0    my whole body feels itchy and like its on fire    \n",
       "4      0   no, its not behaving at all. im mad. why am i...   \n",
       "\n",
       "                                              scores  \n",
       "0  {'neg': 0.167, 'neu': 0.833, 'pos': 0.0, 'comp...  \n",
       "1  {'neg': 0.303, 'neu': 0.697, 'pos': 0.0, 'comp...  \n",
       "2  {'neg': 0.0, 'neu': 0.814, 'pos': 0.186, 'comp...  \n",
       "3  {'neg': 0.321, 'neu': 0.5, 'pos': 0.179, 'comp...  \n",
       "4  {'neg': 0.252, 'neu': 0.748, 'pos': 0.0, 'comp...  "
      ]
     },
     "execution_count": 21,
     "metadata": {},
     "output_type": "execute_result"
    }
   ],
   "source": [
    "data.head(5)"
   ]
  },
  {
   "cell_type": "code",
   "execution_count": 23,
   "id": "5f02ba3f",
   "metadata": {},
   "outputs": [],
   "source": [
    "data['compound']=data['scores'].apply(lambda d:d['compound'])"
   ]
  },
  {
   "cell_type": "code",
   "execution_count": 24,
   "id": "38e5595c",
   "metadata": {},
   "outputs": [
    {
     "data": {
      "text/html": [
       "<div>\n",
       "<style scoped>\n",
       "    .dataframe tbody tr th:only-of-type {\n",
       "        vertical-align: middle;\n",
       "    }\n",
       "\n",
       "    .dataframe tbody tr th {\n",
       "        vertical-align: top;\n",
       "    }\n",
       "\n",
       "    .dataframe thead th {\n",
       "        text-align: right;\n",
       "    }\n",
       "</style>\n",
       "<table border=\"1\" class=\"dataframe\">\n",
       "  <thead>\n",
       "    <tr style=\"text-align: right;\">\n",
       "      <th></th>\n",
       "      <th>class</th>\n",
       "      <th>tweet</th>\n",
       "      <th>scores</th>\n",
       "      <th>compound</th>\n",
       "    </tr>\n",
       "  </thead>\n",
       "  <tbody>\n",
       "    <tr>\n",
       "      <th>0</th>\n",
       "      <td>0</td>\n",
       "      <td>awww, thats a bummer.  you shoulda got davi...</td>\n",
       "      <td>{'neg': 0.167, 'neu': 0.833, 'pos': 0.0, 'comp...</td>\n",
       "      <td>-0.3818</td>\n",
       "    </tr>\n",
       "    <tr>\n",
       "      <th>1</th>\n",
       "      <td>0</td>\n",
       "      <td>is upset that he cant update his facebook by t...</td>\n",
       "      <td>{'neg': 0.303, 'neu': 0.697, 'pos': 0.0, 'comp...</td>\n",
       "      <td>-0.7500</td>\n",
       "    </tr>\n",
       "    <tr>\n",
       "      <th>2</th>\n",
       "      <td>0</td>\n",
       "      <td>i dived many times for the ball. managed to s...</td>\n",
       "      <td>{'neg': 0.0, 'neu': 0.814, 'pos': 0.186, 'comp...</td>\n",
       "      <td>0.4939</td>\n",
       "    </tr>\n",
       "    <tr>\n",
       "      <th>3</th>\n",
       "      <td>0</td>\n",
       "      <td>my whole body feels itchy and like its on fire</td>\n",
       "      <td>{'neg': 0.321, 'neu': 0.5, 'pos': 0.179, 'comp...</td>\n",
       "      <td>-0.2500</td>\n",
       "    </tr>\n",
       "    <tr>\n",
       "      <th>4</th>\n",
       "      <td>0</td>\n",
       "      <td>no, its not behaving at all. im mad. why am i...</td>\n",
       "      <td>{'neg': 0.252, 'neu': 0.748, 'pos': 0.0, 'comp...</td>\n",
       "      <td>-0.6597</td>\n",
       "    </tr>\n",
       "  </tbody>\n",
       "</table>\n",
       "</div>"
      ],
      "text/plain": [
       "   class                                              tweet  \\\n",
       "0      0     awww, thats a bummer.  you shoulda got davi...   \n",
       "1      0  is upset that he cant update his facebook by t...   \n",
       "2      0   i dived many times for the ball. managed to s...   \n",
       "3      0    my whole body feels itchy and like its on fire    \n",
       "4      0   no, its not behaving at all. im mad. why am i...   \n",
       "\n",
       "                                              scores  compound  \n",
       "0  {'neg': 0.167, 'neu': 0.833, 'pos': 0.0, 'comp...   -0.3818  \n",
       "1  {'neg': 0.303, 'neu': 0.697, 'pos': 0.0, 'comp...   -0.7500  \n",
       "2  {'neg': 0.0, 'neu': 0.814, 'pos': 0.186, 'comp...    0.4939  \n",
       "3  {'neg': 0.321, 'neu': 0.5, 'pos': 0.179, 'comp...   -0.2500  \n",
       "4  {'neg': 0.252, 'neu': 0.748, 'pos': 0.0, 'comp...   -0.6597  "
      ]
     },
     "execution_count": 24,
     "metadata": {},
     "output_type": "execute_result"
    }
   ],
   "source": [
    "data.head()"
   ]
  },
  {
   "cell_type": "code",
   "execution_count": 26,
   "id": "1d97ea39",
   "metadata": {},
   "outputs": [],
   "source": [
    "data['comp_score']=data['compound'].apply(lambda score: 1 if score>=0 else 0)"
   ]
  },
  {
   "cell_type": "code",
   "execution_count": 27,
   "id": "1bdebb32",
   "metadata": {},
   "outputs": [
    {
     "data": {
      "text/html": [
       "<div>\n",
       "<style scoped>\n",
       "    .dataframe tbody tr th:only-of-type {\n",
       "        vertical-align: middle;\n",
       "    }\n",
       "\n",
       "    .dataframe tbody tr th {\n",
       "        vertical-align: top;\n",
       "    }\n",
       "\n",
       "    .dataframe thead th {\n",
       "        text-align: right;\n",
       "    }\n",
       "</style>\n",
       "<table border=\"1\" class=\"dataframe\">\n",
       "  <thead>\n",
       "    <tr style=\"text-align: right;\">\n",
       "      <th></th>\n",
       "      <th>class</th>\n",
       "      <th>tweet</th>\n",
       "      <th>scores</th>\n",
       "      <th>compound</th>\n",
       "      <th>comp_score</th>\n",
       "    </tr>\n",
       "  </thead>\n",
       "  <tbody>\n",
       "    <tr>\n",
       "      <th>573523</th>\n",
       "      <td>0</td>\n",
       "      <td>had my first cancellation for friday. lets hop...</td>\n",
       "      <td>{'neg': 0.0, 'neu': 0.775, 'pos': 0.225, 'comp...</td>\n",
       "      <td>0.4404</td>\n",
       "      <td>1</td>\n",
       "    </tr>\n",
       "    <tr>\n",
       "      <th>1172606</th>\n",
       "      <td>1</td>\n",
       "      <td>getting new rugby jerseys for next years rugby...</td>\n",
       "      <td>{'neg': 0.0, 'neu': 0.709, 'pos': 0.291, 'comp...</td>\n",
       "      <td>0.5707</td>\n",
       "      <td>1</td>\n",
       "    </tr>\n",
       "    <tr>\n",
       "      <th>888775</th>\n",
       "      <td>1</td>\n",
       "      <td>its pretty nice outside today</td>\n",
       "      <td>{'neg': 0.0, 'neu': 0.333, 'pos': 0.667, 'comp...</td>\n",
       "      <td>0.7184</td>\n",
       "      <td>1</td>\n",
       "    </tr>\n",
       "    <tr>\n",
       "      <th>552364</th>\n",
       "      <td>0</td>\n",
       "      <td>wahhhh, its seriously very noisy right now. i ...</td>\n",
       "      <td>{'neg': 0.316, 'neu': 0.684, 'pos': 0.0, 'comp...</td>\n",
       "      <td>-0.4005</td>\n",
       "      <td>0</td>\n",
       "    </tr>\n",
       "    <tr>\n",
       "      <th>921986</th>\n",
       "      <td>1</td>\n",
       "      <td>photo loove it</td>\n",
       "      <td>{'neg': 0.0, 'neu': 1.0, 'pos': 0.0, 'compound...</td>\n",
       "      <td>0.0000</td>\n",
       "      <td>1</td>\n",
       "    </tr>\n",
       "  </tbody>\n",
       "</table>\n",
       "</div>"
      ],
      "text/plain": [
       "         class                                              tweet  \\\n",
       "573523       0  had my first cancellation for friday. lets hop...   \n",
       "1172606      1  getting new rugby jerseys for next years rugby...   \n",
       "888775       1                     its pretty nice outside today    \n",
       "552364       0  wahhhh, its seriously very noisy right now. i ...   \n",
       "921986       1                                   photo loove it     \n",
       "\n",
       "                                                    scores  compound  \\\n",
       "573523   {'neg': 0.0, 'neu': 0.775, 'pos': 0.225, 'comp...    0.4404   \n",
       "1172606  {'neg': 0.0, 'neu': 0.709, 'pos': 0.291, 'comp...    0.5707   \n",
       "888775   {'neg': 0.0, 'neu': 0.333, 'pos': 0.667, 'comp...    0.7184   \n",
       "552364   {'neg': 0.316, 'neu': 0.684, 'pos': 0.0, 'comp...   -0.4005   \n",
       "921986   {'neg': 0.0, 'neu': 1.0, 'pos': 0.0, 'compound...    0.0000   \n",
       "\n",
       "         comp_score  \n",
       "573523            1  \n",
       "1172606           1  \n",
       "888775            1  \n",
       "552364            0  \n",
       "921986            1  "
      ]
     },
     "execution_count": 27,
     "metadata": {},
     "output_type": "execute_result"
    }
   ],
   "source": [
    "data.sample(5)"
   ]
  },
  {
   "cell_type": "code",
   "execution_count": 28,
   "id": "c45f580d",
   "metadata": {},
   "outputs": [],
   "source": [
    "from sklearn.metrics import accuracy_score,classification_report,confusion_matrix"
   ]
  },
  {
   "cell_type": "code",
   "execution_count": 29,
   "id": "0999db27",
   "metadata": {},
   "outputs": [
    {
     "data": {
      "text/plain": [
       "0.659255625"
      ]
     },
     "execution_count": 29,
     "metadata": {},
     "output_type": "execute_result"
    }
   ],
   "source": [
    "accuracy_score(data['class'],data['comp_score'])"
   ]
  },
  {
   "cell_type": "code",
   "execution_count": 30,
   "id": "0aa869a0",
   "metadata": {},
   "outputs": [
    {
     "name": "stdout",
     "output_type": "stream",
     "text": [
      "              precision    recall  f1-score   support\n",
      "\n",
      "           0       0.80      0.43      0.56    800000\n",
      "           1       0.61      0.89      0.72    800000\n",
      "\n",
      "    accuracy                           0.66   1600000\n",
      "   macro avg       0.70      0.66      0.64   1600000\n",
      "weighted avg       0.70      0.66      0.64   1600000\n",
      "\n"
     ]
    }
   ],
   "source": [
    "print(classification_report(data['class'],data['comp_score']))"
   ]
  },
  {
   "cell_type": "code",
   "execution_count": null,
   "id": "9b101df6",
   "metadata": {},
   "outputs": [],
   "source": []
  },
  {
   "cell_type": "code",
   "execution_count": null,
   "id": "7c446ddf",
   "metadata": {},
   "outputs": [],
   "source": []
  },
  {
   "cell_type": "code",
   "execution_count": null,
   "id": "fc57b3a4",
   "metadata": {},
   "outputs": [],
   "source": []
  }
 ],
 "metadata": {
  "kernelspec": {
   "display_name": "Python 3 (ipykernel)",
   "language": "python",
   "name": "python3"
  },
  "language_info": {
   "codemirror_mode": {
    "name": "ipython",
    "version": 3
   },
   "file_extension": ".py",
   "mimetype": "text/x-python",
   "name": "python",
   "nbconvert_exporter": "python",
   "pygments_lexer": "ipython3",
   "version": "3.10.2"
  }
 },
 "nbformat": 4,
 "nbformat_minor": 5
}
